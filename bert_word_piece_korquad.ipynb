{
 "cells": [
  {
   "cell_type": "markdown",
   "id": "5d6337e7-a6de-42cd-810e-0e310d9b6285",
   "metadata": {},
   "source": [
    "# BERT WordPiece Tokenizer (한국어)"
   ]
  },
  {
   "cell_type": "markdown",
   "id": "66823243-9d3a-4623-9cff-2176bc1dc78f",
   "metadata": {},
   "source": [
    "## BertWordPieceTokenizer 훈련"
   ]
  },
  {
   "cell_type": "code",
   "execution_count": 1,
   "id": "ad71b2a1-e75f-4286-ac7d-f86f87b0f89d",
   "metadata": {},
   "outputs": [
    {
     "name": "stdout",
     "output_type": "stream",
     "text": [
      "\n",
      "\n",
      "\n",
      "Saved tokenizer: bert_word_piece_korquad/tokenizer_5000.json\n",
      "\n",
      "\n",
      "\n",
      "Saved tokenizer: bert_word_piece_korquad/tokenizer_10000.json\n",
      "\n",
      "\n",
      "\n",
      "Saved tokenizer: bert_word_piece_korquad/tokenizer_20000.json\n",
      "\n",
      "\n",
      "\n",
      "Saved tokenizer: bert_word_piece_korquad/tokenizer_30000.json\n",
      "\n",
      "\n",
      "\n",
      "Saved tokenizer: bert_word_piece_korquad/tokenizer_40000.json\n",
      "\n",
      "\n",
      "\n",
      "Saved tokenizer: bert_word_piece_korquad/tokenizer_50000.json\n"
     ]
    }
   ],
   "source": [
    "from tokenizers import BertWordPieceTokenizer\n",
    "\n",
    "data_files = [\n",
    "    \"korquad_train_context.txt\",\n",
    "    \"korquad_train_question.txt\",\n",
    "    \"korquad_validation_context.txt\",\n",
    "    \"korquad_validation_question.txt\"\n",
    "]\n",
    "\n",
    "vocab_sizes = [5000, 10000, 20000, 30000, 40000, 50000]\n",
    "limit_alphabet = 6000\n",
    "min_frequency = 5\n",
    "\n",
    "for vocab_size in vocab_sizes:\n",
    "    tokenizer = BertWordPieceTokenizer(lowercase=False)\n",
    "    tokenizer.train(files=data_files,\n",
    "                    vocab_size=vocab_size,\n",
    "                    limit_alphabet=limit_alphabet,\n",
    "                    min_frequency=min_frequency)\n",
    "\n",
    "    tokenizer_file = f\"bert_word_piece_korquad/tokenizer_{vocab_size}.json\"\n",
    "    tokenizer.save(tokenizer_file)\n",
    "    print(f\"Saved tokenizer: {tokenizer_file}\")"
   ]
  },
  {
   "cell_type": "markdown",
   "id": "3bfcadea-620d-4db5-8d4c-740840f32676",
   "metadata": {},
   "source": [
    "## 훈련 결과 이용"
   ]
  },
  {
   "cell_type": "code",
   "execution_count": 2,
   "id": "0ce70d09-2b78-4635-8fd3-8c304f1dc405",
   "metadata": {},
   "outputs": [
    {
     "name": "stdout",
     "output_type": "stream",
     "text": [
      "################################################################################\n",
      "TEXT: 미세먼지가 심하면 차량 2부제와 같은 비상저감조치를 시행\n",
      "  TOKENIZER: bert_word_piece_korquad/tokenizer_5000.json\n",
      "    ['미', '##세', '##먼', '##지', '##가', '심', '##하', '##면', '차', '##량', '2', '##부', '##제', '##와', '같', '##은', '비', '##상', '##저', '##감', '##조', '##치', '##를', '시', '##행']\n",
      "  TOKENIZER: bert_word_piece_korquad/tokenizer_10000.json\n",
      "    ['미', '##세', '##먼', '##지가', '심', '##하면', '차량', '2', '##부', '##제와', '같은', '비', '##상', '##저', '##감', '##조', '##치를', '시행']\n",
      "  TOKENIZER: bert_word_piece_korquad/tokenizer_20000.json\n",
      "    ['미세', '##먼', '##지가', '심', '##하면', '차량', '2부', '##제와', '같은', '비상', '##저', '##감', '##조', '##치를', '시행']\n",
      "  TOKENIZER: bert_word_piece_korquad/tokenizer_30000.json\n",
      "    ['미세먼지', '##가', '심', '##하면', '차량', '2부', '##제와', '같은', '비상', '##저', '##감', '##조치를', '시행']\n",
      "  TOKENIZER: bert_word_piece_korquad/tokenizer_40000.json\n",
      "    ['미세먼지', '##가', '심', '##하면', '차량', '2부', '##제와', '같은', '비상', '##저', '##감', '##조치를', '시행']\n",
      "  TOKENIZER: bert_word_piece_korquad/tokenizer_50000.json\n",
      "    ['미세먼지', '##가', '심', '##하면', '차량', '2부', '##제와', '같은', '비상', '##저', '##감', '##조치를', '시행']\n",
      "################################################################################\n",
      "TEXT: 가뜩이나 어려운 조건 속에서\n",
      "  TOKENIZER: bert_word_piece_korquad/tokenizer_5000.json\n",
      "    ['가', '##뜩', '##이', '##나', '어', '##려', '##운', '조', '##건', '속', '##에', '##서']\n",
      "  TOKENIZER: bert_word_piece_korquad/tokenizer_10000.json\n",
      "    ['가', '##뜩', '##이나', '어려', '##운', '조건', '속에서']\n",
      "  TOKENIZER: bert_word_piece_korquad/tokenizer_20000.json\n",
      "    ['가', '##뜩', '##이나', '어려운', '조건', '속에서']\n",
      "  TOKENIZER: bert_word_piece_korquad/tokenizer_30000.json\n",
      "    ['가', '##뜩', '##이나', '어려운', '조건', '속에서']\n",
      "  TOKENIZER: bert_word_piece_korquad/tokenizer_40000.json\n",
      "    ['가', '##뜩', '##이나', '어려운', '조건', '속에서']\n",
      "  TOKENIZER: bert_word_piece_korquad/tokenizer_50000.json\n",
      "    ['가', '##뜩', '##이나', '어려운', '조건', '속에서']\n"
     ]
    }
   ],
   "source": [
    "from tokenizers import Tokenizer\n",
    "\n",
    "texts = [\n",
    "    \"미세먼지가 심하면 차량 2부제와 같은 비상저감조치를 시행\",\n",
    "    \"가뜩이나 어려운 조건 속에서\"\n",
    "]\n",
    "\n",
    "for text in texts:\n",
    "    print(\"#\" * 80)\n",
    "    print(\"TEXT: \" + text)\n",
    "    for vocab_size in vocab_sizes:\n",
    "        tokenizer_file = f\"bert_word_piece_korquad/tokenizer_{vocab_size}.json\"\n",
    "        print(f\"  TOKENIZER: {tokenizer_file}\")\n",
    "        tokenizer = Tokenizer.from_file(tokenizer_file)\n",
    "        print(f\"    {tokenizer.encode(text).tokens}\")"
   ]
  }
 ],
 "metadata": {
  "kernelspec": {
   "display_name": "Python 3 (ipykernel)",
   "language": "python",
   "name": "python3"
  },
  "language_info": {
   "codemirror_mode": {
    "name": "ipython",
    "version": 3
   },
   "file_extension": ".py",
   "mimetype": "text/x-python",
   "name": "python",
   "nbconvert_exporter": "python",
   "pygments_lexer": "ipython3",
   "version": "3.12.9"
  }
 },
 "nbformat": 4,
 "nbformat_minor": 5
}
