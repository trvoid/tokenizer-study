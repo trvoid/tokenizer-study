{
 "cells": [
  {
   "cell_type": "markdown",
   "id": "5bb603c8-271f-4c17-9433-6d365c94a13d",
   "metadata": {},
   "source": [
    "# SentencePiece Tokenizer (한국어)"
   ]
  },
  {
   "cell_type": "markdown",
   "id": "e25aca9a-317d-4fb5-aa4b-6c31844bdc58",
   "metadata": {},
   "source": [
    "## 데이터셋 적재"
   ]
  },
  {
   "cell_type": "code",
   "execution_count": 1,
   "id": "ea5b2d78-ecae-4d1a-9b55-980b0063ef81",
   "metadata": {},
   "outputs": [
    {
     "name": "stdout",
     "output_type": "stream",
     "text": [
      "DatasetDict({\n",
      "    train: Dataset({\n",
      "        features: ['id', 'title', 'context', 'question', 'answers'],\n",
      "        num_rows: 60407\n",
      "    })\n",
      "    validation: Dataset({\n",
      "        features: ['id', 'title', 'context', 'question', 'answers'],\n",
      "        num_rows: 5774\n",
      "    })\n",
      "})\n"
     ]
    }
   ],
   "source": [
    "from datasets import load_dataset\n",
    "\n",
    "dataset_name = \"KorQuAD/squad_kor_v1\"\n",
    "dataset = load_dataset(dataset_name, trust_remote_code=True)\n",
    "print(dataset)"
   ]
  },
  {
   "cell_type": "code",
   "execution_count": 2,
   "id": "743ca671-2bdb-4f9c-94fa-8a5f7cf610e7",
   "metadata": {},
   "outputs": [
    {
     "name": "stdout",
     "output_type": "stream",
     "text": [
      "\n",
      "'>>> context: 9월 26일 환경부를 비롯한 12개 관계부처가 합동으로 '미세먼지 관리 종합대책'을 확정하고 발전·산업·수송·생활 등 4개 부분에서 저감 대책을 실시하는 관련 로드맵을 발표했다. 7조 2000억 원의 예산을 투입해 미세먼지 국내 배출량을 30% 감축하고 미세먼지 '나쁨' 일수를 70%까지 줄이기로 한 것인데 이를 위해 공정률 10% 미만인 석탄발전소 9기 중 4기를 LNG 등 친환경 연료로 전환하고 남은 5기도 최고 수준의 배출 기준을 적용하며 30년이 넘은 노후 석탄발전소 7기는 임기 내 폐쇄하기로 했다. 또한 대기배출총량제를 전국으로 확대·강화하고 먼지총량제를 새로 도입하며, 노후 경유차 221만 대를 임기 내 77% 조기 폐차하고 친환경 차를 2022년까지 200만 대 보급하며 미세먼지가 심하면 차량 2부제와 같은 비상저감조치를 시행하기로 했다. 국제적으로는 미세먼지를 한중 양국의 정상의제로 격상하고 동북아 지역에서 협약체결을 추진하면서 미세먼지 환경기준도 선진국 수준으로 강화할 것도 포함했다.'\n",
      "'>>> question: 미세먼지 해결을 위해 전국으로 확대 강화된 기존의 제도는?'\n",
      "\n",
      "'>>> context: 프리스틀리는 워링턴 거주 시절에는 다른 일 때문에 신학 연구에 몰두하지 못하였으나, 리즈에 오면서 그는 신학 연구에 많은 시간을 투자하였고, 결과적으로 그의 신앙은 아리우스주의에서 유니테리언으로 정립되었다. 리즈에서 프리스틀리는 삼위일체와 예수의 선재성(先在性, 성자인 예수는 천지창조전부터 성부와 같이 존재했다는 교리)등을 완전히 부정하였고, 기독교 교리와 성서를 새롭게 해석하기 시작했다. 그는 오래전부터 써오던 신학 교육에 대한 책인 《자연과 계시 종교의 원리》(Institutes of Natural and Revealed Religion)를 출판하기 시작하였는데, 1772년에 1권이 출판되었고 마지막 3권은 1774년에 출판되었다. 그는 책에서 자연 종교, 계시의 진실성을 뒷받침하는 논거, 계시로부터 얻을 수 있는 진실 등을 논했다. 이 책은 약 반세기간의 자유주의 신학자들의 주장을 요약하였고 오랜 기간에 걸쳐 유니테리언의 대표적인 해설서가 되었다.'\n",
      "'>>> question: 오랜 신학 연구 끝에 프리스틀리의 신앙은 아리우스주의를 거쳐 무엇으로 정립되었는가?'\n",
      "\n",
      "'>>> context: 그는 밤이 새도록 근로기준법 조문을 찾아 암기하며 현장에서 발생하는 노동자 불이익에 저항하였다. 그는 동대문구청을 찾아가 열악한 환경에 대해 호소했지만 받아들여지지 않았다. 그는 근로기준법상의 감독권 행사를 요청하기 위해 시청 근로감독관실을 찾아갔지만, 근로감독관은 평화 시장의 참혹한 얘기에 관심 조차 보이지 않았다. 그는 다시 노동청의 문을 두드렸지만 결과는 마찬가지였다. 가뜩이나 어려운 조건 속에서 발버둥치고 있던 전태일에게 그것은 너무나 큰 충격이었다. 노동이나 근로 기준법조차 사업주들의 편이라는 현실은 그를 한동안 허탈 상태로 몰아 넣었다. 그는 청계천 일대의 노동 실태를 직접 조사, 설문하여 이를 토대로 근로기준법 준수를 요구하는 청원서를 노동청에 냈으나 돌아온 답변은 경멸과 비웃음 뿐이었다. 처음에 약간 말투가 어눌했던 그는 부랑자로 몰리거나, 노동청 공무원들에게 조롱의 대상이 되기도 했다. 그의 노동자 권리 청원은 언론들도 외면했고, 경향신문 등에만 간략하게 보도되었다.'\n",
      "'>>> question: 그는 근로기준법상의 감독권 행사를 요청하려고 어느 곳을 찾아갔는가?'\n"
     ]
    }
   ],
   "source": [
    "samples = dataset[\"train\"].shuffle(seed=42).select(range(3))\n",
    "\n",
    "for row in samples:\n",
    "    print(f\"\\n'>>> context: {row['context']}'\")\n",
    "    print(f\"'>>> question: {row['question']}'\")"
   ]
  },
  {
   "cell_type": "markdown",
   "id": "d795c695-739a-429c-9b65-d17e2c2f4c9d",
   "metadata": {},
   "source": [
    "## 데이터 파일 만들기"
   ]
  },
  {
   "cell_type": "code",
   "execution_count": 3,
   "id": "e7faddac-67ac-4572-b41f-6ee4f5e6bca5",
   "metadata": {},
   "outputs": [],
   "source": [
    "with open('korquad_train_context.txt', 'w', encoding='utf8') as f:\n",
    "    f.write(\"\\n\".join(dataset[\"train\"][\"context\"]))\n",
    "with open('korquad_train_question.txt', 'w', encoding='utf8') as f:\n",
    "    f.write(\"\\n\".join(dataset[\"train\"][\"question\"]))\n",
    "\n",
    "with open('korquad_validation_context.txt', 'w', encoding='utf8') as f:\n",
    "    f.write(\"\\n\".join(dataset[\"validation\"][\"context\"]))\n",
    "with open('korquad_validation_question.txt', 'w', encoding='utf8') as f:\n",
    "    f.write(\"\\n\".join(dataset[\"validation\"][\"question\"]))"
   ]
  },
  {
   "cell_type": "markdown",
   "id": "cfeb8ca9-03aa-4cc3-bcf9-08e2fee0ad34",
   "metadata": {},
   "source": [
    "## SentencePiece 훈련"
   ]
  },
  {
   "cell_type": "code",
   "execution_count": 4,
   "id": "575828c5-19c6-4058-8235-7340fe058616",
   "metadata": {},
   "outputs": [
    {
     "name": "stderr",
     "output_type": "stream",
     "text": [
      "sentencepiece_trainer.cc(178) LOG(INFO) Running command: --input=korquad_train_context.txt,korquad_train_question.txt,korquad_validation_context.txt,korquad_validation_question.txt             --model_prefix=sentence_piece_korquad/korquad_5000_bpe             --vocab_size=5000             --model_type=bpe             --max_sentence_length=24140             --minloglevel=1\n"
     ]
    },
    {
     "name": "stdout",
     "output_type": "stream",
     "text": [
      "Saved tokenizer: sentence_piece_korquad/korquad_5000_bpe\n",
      "Saved tokenizer: sentence_piece_korquad/korquad_5000_unigram\n",
      "Saved tokenizer: sentence_piece_korquad/korquad_10000_bpe\n",
      "Saved tokenizer: sentence_piece_korquad/korquad_10000_unigram\n",
      "Saved tokenizer: sentence_piece_korquad/korquad_20000_bpe\n",
      "Saved tokenizer: sentence_piece_korquad/korquad_20000_unigram\n",
      "Saved tokenizer: sentence_piece_korquad/korquad_30000_bpe\n",
      "Saved tokenizer: sentence_piece_korquad/korquad_30000_unigram\n",
      "Saved tokenizer: sentence_piece_korquad/korquad_40000_bpe\n",
      "Saved tokenizer: sentence_piece_korquad/korquad_40000_unigram\n",
      "Saved tokenizer: sentence_piece_korquad/korquad_50000_bpe\n",
      "Saved tokenizer: sentence_piece_korquad/korquad_50000_unigram\n"
     ]
    }
   ],
   "source": [
    "import sentencepiece as spm\n",
    "\n",
    "filenames = [\n",
    "    \"korquad_train_context.txt\",\n",
    "    \"korquad_train_question.txt\",\n",
    "    \"korquad_validation_context.txt\",\n",
    "    \"korquad_validation_question.txt\"\n",
    "]\n",
    "input_files = \",\".join(filenames)\n",
    "\n",
    "vocab_sizes = [5000, 10000, 20000, 30000, 40000, 50000]\n",
    "algorithms = [\"bpe\", \"unigram\"]\n",
    "for vocab_size in vocab_sizes:\n",
    "    for algorithm in algorithms:\n",
    "        model_prefix = f\"sentence_piece_korquad/korquad_{vocab_size}_{algorithm}\"\n",
    "        spm.SentencePieceTrainer.Train(f\"--input={input_files} \\\n",
    "            --model_prefix={model_prefix} \\\n",
    "            --vocab_size={vocab_size} \\\n",
    "            --model_type={algorithm} \\\n",
    "            --max_sentence_length=24140 \\\n",
    "            --minloglevel=1\")\n",
    "        print(f\"Saved tokenizer: {model_prefix}\")"
   ]
  },
  {
   "cell_type": "markdown",
   "id": "304c9b21-062a-4526-a8ec-bd141920419a",
   "metadata": {},
   "source": [
    "## 단어 사전 확인"
   ]
  },
  {
   "cell_type": "code",
   "execution_count": 5,
   "id": "782ecef6-2a6d-4cf0-94a7-cf529e850e94",
   "metadata": {},
   "outputs": [
    {
     "data": {
      "text/html": [
       "<div>\n",
       "<style scoped>\n",
       "    .dataframe tbody tr th:only-of-type {\n",
       "        vertical-align: middle;\n",
       "    }\n",
       "\n",
       "    .dataframe tbody tr th {\n",
       "        vertical-align: top;\n",
       "    }\n",
       "\n",
       "    .dataframe thead th {\n",
       "        text-align: right;\n",
       "    }\n",
       "</style>\n",
       "<table border=\"1\" class=\"dataframe\">\n",
       "  <thead>\n",
       "    <tr style=\"text-align: right;\">\n",
       "      <th></th>\n",
       "      <th>0</th>\n",
       "      <th>1</th>\n",
       "    </tr>\n",
       "  </thead>\n",
       "  <tbody>\n",
       "    <tr>\n",
       "      <th>7214</th>\n",
       "      <td>용</td>\n",
       "      <td>-7211</td>\n",
       "    </tr>\n",
       "    <tr>\n",
       "      <th>3023</th>\n",
       "      <td>▁생존</td>\n",
       "      <td>-3020</td>\n",
       "    </tr>\n",
       "    <tr>\n",
       "      <th>9355</th>\n",
       "      <td>늉</td>\n",
       "      <td>-9352</td>\n",
       "    </tr>\n",
       "    <tr>\n",
       "      <th>7371</th>\n",
       "      <td>즈</td>\n",
       "      <td>-7368</td>\n",
       "    </tr>\n",
       "    <tr>\n",
       "      <th>6330</th>\n",
       "      <td>▁멈추</td>\n",
       "      <td>-6327</td>\n",
       "    </tr>\n",
       "    <tr>\n",
       "      <th>4748</th>\n",
       "      <td>▁후속</td>\n",
       "      <td>-4745</td>\n",
       "    </tr>\n",
       "    <tr>\n",
       "      <th>7094</th>\n",
       "      <td>0</td>\n",
       "      <td>-7091</td>\n",
       "    </tr>\n",
       "    <tr>\n",
       "      <th>3333</th>\n",
       "      <td>▁수비</td>\n",
       "      <td>-3330</td>\n",
       "    </tr>\n",
       "    <tr>\n",
       "      <th>7627</th>\n",
       "      <td>뿐</td>\n",
       "      <td>-7624</td>\n",
       "    </tr>\n",
       "    <tr>\n",
       "      <th>9539</th>\n",
       "      <td>農</td>\n",
       "      <td>-9536</td>\n",
       "    </tr>\n",
       "  </tbody>\n",
       "</table>\n",
       "</div>"
      ],
      "text/plain": [
       "        0     1\n",
       "7214    용 -7211\n",
       "3023  ▁생존 -3020\n",
       "9355    늉 -9352\n",
       "7371    즈 -7368\n",
       "6330  ▁멈추 -6327\n",
       "4748  ▁후속 -4745\n",
       "7094    0 -7091\n",
       "3333  ▁수비 -3330\n",
       "7627    뿐 -7624\n",
       "9539    農 -9536"
      ]
     },
     "execution_count": 5,
     "metadata": {},
     "output_type": "execute_result"
    }
   ],
   "source": [
    "import pandas as pd\n",
    "import csv\n",
    "\n",
    "vocab_file = \"sentence_piece_korquad/korquad_10000_bpe.vocab\"\n",
    "vocab_list = pd.read_csv(vocab_file, sep='\\t', header=None, quoting=csv.QUOTE_NONE)\n",
    "vocab_list.sample(10)"
   ]
  },
  {
   "cell_type": "code",
   "execution_count": 6,
   "id": "0dabdf20-22fa-4b39-bf04-d75eba1005fd",
   "metadata": {},
   "outputs": [
    {
     "data": {
      "text/plain": [
       "10000"
      ]
     },
     "execution_count": 6,
     "metadata": {},
     "output_type": "execute_result"
    }
   ],
   "source": [
    "len(vocab_list)"
   ]
  },
  {
   "cell_type": "markdown",
   "id": "0d101990-6a32-4c93-b7be-3ab8d704a877",
   "metadata": {},
   "source": [
    "## 훈련 결과 이용"
   ]
  },
  {
   "cell_type": "code",
   "execution_count": 7,
   "id": "1f19041d-643b-499d-9533-529eb33f792a",
   "metadata": {},
   "outputs": [
    {
     "name": "stdout",
     "output_type": "stream",
     "text": [
      "################################################################################\n",
      "TEXT: 미세먼지가 심하면 차량 2부제와 같은 비상저감조치를 시행\n",
      "  TOKENIZER: sentence_piece_korquad/korquad_5000_bpe.model\n",
      "    ['▁미', '세', '먼', '지가', '▁심', '하면', '▁차', '량', '▁2', '부', '제', '와', '▁같은', '▁비', '상', '저', '감', '조', '치를', '▁시', '행']\n",
      "  TOKENIZER: sentence_piece_korquad/korquad_5000_unigram.model\n",
      "    ['▁미', '세', '먼', '지', '가', '▁심', '하면', '▁차량', '▁2', '부', '제', '와', '▁같은', '▁비', '상', '저', '감', '조', '치', '를', '▁시행']\n",
      "  TOKENIZER: sentence_piece_korquad/korquad_10000_bpe.model\n",
      "    ['▁미', '세', '먼', '지가', '▁심', '하면', '▁차량', '▁2', '부', '제와', '▁같은', '▁비상', '저', '감', '조', '치를', '▁시행']\n",
      "  TOKENIZER: sentence_piece_korquad/korquad_10000_unigram.model\n",
      "    ['▁미', '세', '먼', '지', '가', '▁심', '하면', '▁차량', '▁2', '부', '제', '와', '▁같은', '▁비상', '저', '감', '조', '치', '를', '▁시행']\n",
      "  TOKENIZER: sentence_piece_korquad/korquad_20000_bpe.model\n",
      "    ['▁미세먼', '지가', '▁심', '하면', '▁차량', '▁2', '부', '제와', '▁같은', '▁비상', '저', '감', '조치를', '▁시행']\n",
      "  TOKENIZER: sentence_piece_korquad/korquad_20000_unigram.model\n",
      "    ['▁미세먼지', '가', '▁심', '하면', '▁차량', '▁2', '부', '제', '와', '▁같은', '▁비상', '저', '감', '조치', '를', '▁시행']\n",
      "  TOKENIZER: sentence_piece_korquad/korquad_30000_bpe.model\n",
      "    ['▁미세먼', '지가', '▁심', '하면', '▁차량', '▁2', '부', '제와', '▁같은', '▁비상', '저', '감', '조치를', '▁시행']\n",
      "  TOKENIZER: sentence_piece_korquad/korquad_30000_unigram.model\n",
      "    ['▁미세먼지', '가', '▁심', '하면', '▁차량', '▁2', '부', '제', '와', '▁같은', '▁비상', '저', '감', '조치', '를', '▁시행']\n",
      "  TOKENIZER: sentence_piece_korquad/korquad_40000_bpe.model\n",
      "    ['▁미세먼', '지가', '▁심', '하면', '▁차량', '▁2', '부', '제와', '▁같은', '▁비상', '저', '감', '조치를', '▁시행']\n",
      "  TOKENIZER: sentence_piece_korquad/korquad_40000_unigram.model\n",
      "    ['▁미세먼지', '가', '▁심', '하면', '▁차량', '▁2', '부', '제', '와', '▁같은', '▁비상', '저', '감', '조치', '를', '▁시행']\n",
      "  TOKENIZER: sentence_piece_korquad/korquad_50000_bpe.model\n",
      "    ['▁미세먼', '지가', '▁심', '하면', '▁차량', '▁2', '부', '제와', '▁같은', '▁비상', '저', '감', '조치를', '▁시행']\n",
      "  TOKENIZER: sentence_piece_korquad/korquad_50000_unigram.model\n",
      "    ['▁미세먼지', '가', '▁심', '하면', '▁차량', '▁2', '부', '제', '와', '▁같은', '▁비상저감조치', '를', '▁시행']\n",
      "################################################################################\n",
      "TEXT: 가뜩이나 어려운 조건 속에서\n",
      "  TOKENIZER: sentence_piece_korquad/korquad_5000_bpe.model\n",
      "    ['▁가', '뜩', '이나', '▁어려', '운', '▁조', '건', '▁속', '에서']\n",
      "  TOKENIZER: sentence_piece_korquad/korquad_5000_unigram.model\n",
      "    ['▁', '가', '뜩', '이나', '▁어', '려', '운', '▁조건', '▁속', '에서']\n",
      "  TOKENIZER: sentence_piece_korquad/korquad_10000_bpe.model\n",
      "    ['▁가', '뜩', '이나', '▁어려운', '▁조건', '▁속에서']\n",
      "  TOKENIZER: sentence_piece_korquad/korquad_10000_unigram.model\n",
      "    ['▁', '가', '뜩', '이나', '▁어려운', '▁조건', '▁속에서']\n",
      "  TOKENIZER: sentence_piece_korquad/korquad_20000_bpe.model\n",
      "    ['▁가', '뜩', '이나', '▁어려운', '▁조건', '▁속에서']\n",
      "  TOKENIZER: sentence_piece_korquad/korquad_20000_unigram.model\n",
      "    ['▁', '가', '뜩', '이나', '▁어려운', '▁조건', '▁속에서']\n",
      "  TOKENIZER: sentence_piece_korquad/korquad_30000_bpe.model\n",
      "    ['▁가', '뜩', '이나', '▁어려운', '▁조건', '▁속에서']\n",
      "  TOKENIZER: sentence_piece_korquad/korquad_30000_unigram.model\n",
      "    ['▁', '가', '뜩', '이나', '▁어려운', '▁조건', '▁속에서']\n",
      "  TOKENIZER: sentence_piece_korquad/korquad_40000_bpe.model\n",
      "    ['▁가', '뜩', '이나', '▁어려운', '▁조건', '▁속에서']\n",
      "  TOKENIZER: sentence_piece_korquad/korquad_40000_unigram.model\n",
      "    ['▁', '가', '뜩', '이나', '▁어려운', '▁조건', '▁속에서']\n",
      "  TOKENIZER: sentence_piece_korquad/korquad_50000_bpe.model\n",
      "    ['▁가', '뜩', '이나', '▁어려운', '▁조건', '▁속에서']\n",
      "  TOKENIZER: sentence_piece_korquad/korquad_50000_unigram.model\n",
      "    ['▁', '가', '뜩', '이나', '▁어려운', '▁조건', '▁속에서']\n"
     ]
    }
   ],
   "source": [
    "sp = spm.SentencePieceProcessor()\n",
    "\n",
    "texts = [\n",
    "    \"미세먼지가 심하면 차량 2부제와 같은 비상저감조치를 시행\",\n",
    "    \"가뜩이나 어려운 조건 속에서\"\n",
    "]\n",
    "\n",
    "for text in texts:\n",
    "    print(\"#\" * 80)\n",
    "    print(\"TEXT: \" + text)\n",
    "    for vocab_size in vocab_sizes:\n",
    "        for algorithm in algorithms:\n",
    "            model_file = f\"sentence_piece_korquad/korquad_{vocab_size}_{algorithm}.model\"\n",
    "            print(f\"  TOKENIZER: \" + model_file)\n",
    "            sp.load(model_file)\n",
    "            print(f\"    {sp.encode_as_pieces(text)}\")\n",
    "            #print(f\"    {sp.encode_as_ids(text)}\")"
   ]
  },
  {
   "cell_type": "code",
   "execution_count": null,
   "id": "319654bb-67cd-4691-a215-e05778a2ed1a",
   "metadata": {},
   "outputs": [],
   "source": []
  }
 ],
 "metadata": {
  "kernelspec": {
   "display_name": "Python 3 (ipykernel)",
   "language": "python",
   "name": "python3"
  },
  "language_info": {
   "codemirror_mode": {
    "name": "ipython",
    "version": 3
   },
   "file_extension": ".py",
   "mimetype": "text/x-python",
   "name": "python",
   "nbconvert_exporter": "python",
   "pygments_lexer": "ipython3",
   "version": "3.12.9"
  }
 },
 "nbformat": 4,
 "nbformat_minor": 5
}
